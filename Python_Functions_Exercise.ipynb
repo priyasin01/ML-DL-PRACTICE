{
  "nbformat": 4,
  "nbformat_minor": 0,
  "metadata": {
    "colab": {
      "name": "Untitled23.ipynb",
      "version": "0.3.2",
      "provenance": [],
      "collapsed_sections": [],
      "include_colab_link": true
    },
    "kernelspec": {
      "name": "python3",
      "display_name": "Python 3"
    }
  },
  "cells": [
    {
      "cell_type": "markdown",
      "metadata": {
        "id": "view-in-github",
        "colab_type": "text"
      },
      "source": [
        "<a href=\"https://colab.research.google.com/github/priyasin01/ML-DL-PRACTICE/blob/master/Python_Functions_Exercise.ipynb\" target=\"_parent\"><img src=\"https://colab.research.google.com/assets/colab-badge.svg\" alt=\"Open In Colab\"/></a>"
      ]
    },
    {
      "cell_type": "markdown",
      "metadata": {
        "id": "VdEtTs2deO6X",
        "colab_type": "text"
      },
      "source": [
        "#Task 3#\n",
        "1)what is the digit value of the factorial number?\n",
        "\n",
        "Input :  5   output : 3(5! = 120)  \n",
        "Input :  6   output : 3(6! = 720)  \n",
        "Input :  7   output : 4(7! = 5040)   \n",
        "Input :  4   output : 2(4! = 24)  \n",
        "Input :  3   output : 1(3! =6)\n",
        "\n",
        "2)Replace the current value with the next large value in an array, if there is no any large value exists in an array, so Replace with -1.\n",
        "\n",
        "Tese Case : \n",
        "1) Input : [2,1,5,2,6,2] .output : [5,5,6,6-1,-1]\n",
        "\n",
        "2) Input :  [2,1,5,2,6,20] . output : [5,5,6,6-20,-1]\n",
        "\n",
        "3) Input :  [22,1,5,2,6,20] . output : [-1,-1,-1,1,-1,-1]\n",
        "\n",
        " 4) Input :  [0,1,5,2,6,20] . output : [1, 5, 6, 6, 20, -1]\n",
        "\n",
        " 5) Input :  [100,111,115,222,666,777] . output : [111,115,222,666,777,-1]"
      ]
    },
    {
      "cell_type": "code",
      "metadata": {
        "id": "e9dXusfAerEU",
        "colab_type": "code",
        "colab": {
          "base_uri": "https://localhost:8080/",
          "height": 35
        },
        "outputId": "377bbec4-0893-4ef4-e813-e52ab6d36448"
      },
      "source": [
        "#1)what is the digit value of the factorial number?\n",
        "def fact(num):\n",
        "  if(num==0):\n",
        "    return 1\n",
        "  return num*fact(num-1)\n",
        "\n",
        "\n",
        "\n",
        "def digcount(num):\n",
        "  count=0\n",
        "  while(num!=0):\n",
        "    num=(int)(num/10)\n",
        "    count=count+1\n",
        "  return count\n",
        "    \n",
        "print(str(digcount(fact(5)))+\"(\"+str(5)+\"! = \"+ str(fact(5))+\")\")"
      ],
      "execution_count": 15,
      "outputs": [
        {
          "output_type": "stream",
          "text": [
            "3(5! = 120)\n"
          ],
          "name": "stdout"
        }
      ]
    },
    {
      "cell_type": "code",
      "metadata": {
        "id": "gmeQJ_Acfeo-",
        "colab_type": "code",
        "colab": {
          "base_uri": "https://localhost:8080/",
          "height": 35
        },
        "outputId": "5997333e-f1e6-4c81-81c3-2b5e2b7e8053"
      },
      "source": [
        "print(str(digcount(fact(6)))+\"(\"+str(6)+\"! = \"+ str(fact(6))+\")\")"
      ],
      "execution_count": 16,
      "outputs": [
        {
          "output_type": "stream",
          "text": [
            "3(6! = 720)\n"
          ],
          "name": "stdout"
        }
      ]
    },
    {
      "cell_type": "code",
      "metadata": {
        "id": "EDg5QzhynWES",
        "colab_type": "code",
        "colab": {}
      },
      "source": [
        "#2)Replace the current value with the next large value in an array, if there is no any large value exists in an array, so Replace with -1.\n",
        "\n",
        "def nextdig(numbers):\n",
        "  \n",
        "  for i in range(len(numbers)):\n",
        "    flag=0\n",
        "    num=numbers[i+1:]\n",
        "    for j in num:\n",
        "      if (j>numbers[i]):\n",
        "        numbers[i]=j\n",
        "        flag=1\n",
        "        break\n",
        "    if (flag==0):\n",
        "      numbers[i]=-1\n",
        "    \n",
        "      \n",
        "  print(numbers)\n",
        "              "
      ],
      "execution_count": 0,
      "outputs": []
    },
    {
      "cell_type": "code",
      "metadata": {
        "id": "JIQmgIHlC8_P",
        "colab_type": "code",
        "colab": {
          "base_uri": "https://localhost:8080/",
          "height": 35
        },
        "outputId": "34f7b846-93b3-4620-98ab-50603350e868"
      },
      "source": [
        "nextdig([2,1,5,2,6,2])"
      ],
      "execution_count": 43,
      "outputs": [
        {
          "output_type": "stream",
          "text": [
            "[5, 5, 6, 6, -1, -1]\n"
          ],
          "name": "stdout"
        }
      ]
    },
    {
      "cell_type": "code",
      "metadata": {
        "id": "e1z3P1lDDGVJ",
        "colab_type": "code",
        "colab": {
          "base_uri": "https://localhost:8080/",
          "height": 35
        },
        "outputId": "65f9ca82-2369-4c0d-a640-685dc2f13512"
      },
      "source": [
        "nextdig( [2,1,5,2,6,20] )"
      ],
      "execution_count": 44,
      "outputs": [
        {
          "output_type": "stream",
          "text": [
            "[5, 5, 6, 6, 20, -1]\n"
          ],
          "name": "stdout"
        }
      ]
    },
    {
      "cell_type": "code",
      "metadata": {
        "id": "MTq9t3kqChf3",
        "colab_type": "code",
        "colab": {
          "base_uri": "https://localhost:8080/",
          "height": 35
        },
        "outputId": "a40a1d07-831f-4694-9d01-7c471f4d2879"
      },
      "source": [
        "nextdig([100,111,115,222,666,777] )"
      ],
      "execution_count": 45,
      "outputs": [
        {
          "output_type": "stream",
          "text": [
            "[111, 115, 222, 666, 777, -1]\n"
          ],
          "name": "stdout"
        }
      ]
    },
    {
      "cell_type": "code",
      "metadata": {
        "id": "CER0th4uCrJS",
        "colab_type": "code",
        "colab": {}
      },
      "source": [
        ""
      ],
      "execution_count": 0,
      "outputs": []
    }
  ]
}
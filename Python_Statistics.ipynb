{
  "nbformat": 4,
  "nbformat_minor": 0,
  "metadata": {
    "colab": {
      "name": "Untitled21.ipynb",
      "version": "0.3.2",
      "provenance": [],
      "collapsed_sections": [],
      "include_colab_link": true
    },
    "kernelspec": {
      "name": "python3",
      "display_name": "Python 3"
    }
  },
  "cells": [
    {
      "cell_type": "markdown",
      "metadata": {
        "id": "view-in-github",
        "colab_type": "text"
      },
      "source": [
        "<a href=\"https://colab.research.google.com/github/priyasin01/ML-DL-PRACTICE/blob/master/Python_Statistics.ipynb\" target=\"_parent\"><img src=\"https://colab.research.google.com/assets/colab-badge.svg\" alt=\"Open In Colab\"/></a>"
      ]
    },
    {
      "cell_type": "markdown",
      "metadata": {
        "id": "hlQHZHFtScYf",
        "colab_type": "text"
      },
      "source": [
        "#TASK 2#\n",
        "\n",
        "Data Science (Machine Learning and Deep Learning) :\n",
        "\n",
        "1) Find the mean from list or value.\n",
        "\n",
        "2) Find the median from list or value.\n",
        "\n",
        "3) Find the mode from list or value.\n",
        "\n",
        "\n",
        "4) Find the variance from list or value.\n",
        "\n",
        "\n",
        "5) Find the co-variance from list_x and  list_y.\n",
        "\n",
        "\n",
        "6) Find the normalization from list.\n",
        "\n",
        "\n",
        "\n",
        "7) Find the z-score or z-value or z-standard from list."
      ]
    },
    {
      "cell_type": "code",
      "metadata": {
        "id": "mi0MXycoS5d0",
        "colab_type": "code",
        "colab": {
          "base_uri": "https://localhost:8080/",
          "height": 35
        },
        "outputId": "a6c8057e-5385-4cd0-8842-05a91a11cfd5"
      },
      "source": [
        "#1) Find the mean from list or value.\n",
        "from statistics import mean\n",
        "alist=[1,2,3,4,5,6]\n",
        "mean(alist)"
      ],
      "execution_count": 6,
      "outputs": [
        {
          "output_type": "execute_result",
          "data": {
            "text/plain": [
              "3.5"
            ]
          },
          "metadata": {
            "tags": []
          },
          "execution_count": 6
        }
      ]
    },
    {
      "cell_type": "code",
      "metadata": {
        "id": "wNy7GRGGTB4p",
        "colab_type": "code",
        "colab": {
          "base_uri": "https://localhost:8080/",
          "height": 35
        },
        "outputId": "c72023a7-665e-437f-a75d-f8c8b36a6240"
      },
      "source": [
        "sum(alist)/len(alist)"
      ],
      "execution_count": 7,
      "outputs": [
        {
          "output_type": "execute_result",
          "data": {
            "text/plain": [
              "3.5"
            ]
          },
          "metadata": {
            "tags": []
          },
          "execution_count": 7
        }
      ]
    },
    {
      "cell_type": "code",
      "metadata": {
        "id": "k6cwDJX6UMjl",
        "colab_type": "code",
        "colab": {
          "base_uri": "https://localhost:8080/",
          "height": 35
        },
        "outputId": "01f4af98-bfd7-4ec2-aef8-8f08a1fe1486"
      },
      "source": [
        "#2) Find the median from list or value.\n",
        "from statistics import median \n",
        "median(alist)"
      ],
      "execution_count": 8,
      "outputs": [
        {
          "output_type": "execute_result",
          "data": {
            "text/plain": [
              "3.5"
            ]
          },
          "metadata": {
            "tags": []
          },
          "execution_count": 8
        }
      ]
    },
    {
      "cell_type": "code",
      "metadata": {
        "id": "FfIL-Xo5UXlS",
        "colab_type": "code",
        "colab": {
          "base_uri": "https://localhost:8080/",
          "height": 35
        },
        "outputId": "a093f131-3630-4774-ecef-4baec1e3b189"
      },
      "source": [
        "alist"
      ],
      "execution_count": 9,
      "outputs": [
        {
          "output_type": "execute_result",
          "data": {
            "text/plain": [
              "[1, 2, 3, 4, 5, 6]"
            ]
          },
          "metadata": {
            "tags": []
          },
          "execution_count": 9
        }
      ]
    },
    {
      "cell_type": "code",
      "metadata": {
        "id": "_1Gh7RRLUctp",
        "colab_type": "code",
        "colab": {
          "base_uri": "https://localhost:8080/",
          "height": 35
        },
        "outputId": "ce96dd99-0995-432d-e2e7-230c43931397"
      },
      "source": [
        "#3) Find the mode from list or value.\n",
        "from statistics import mode\n",
        "alist=[1,2,2,3,4,4,4,5,6]\n",
        "mode(alist)"
      ],
      "execution_count": 10,
      "outputs": [
        {
          "output_type": "execute_result",
          "data": {
            "text/plain": [
              "4"
            ]
          },
          "metadata": {
            "tags": []
          },
          "execution_count": 10
        }
      ]
    },
    {
      "cell_type": "code",
      "metadata": {
        "id": "haDsxlGeU6GI",
        "colab_type": "code",
        "colab": {
          "base_uri": "https://localhost:8080/",
          "height": 35
        },
        "outputId": "99068346-6373-4f2d-89e4-8d3156dc05ba"
      },
      "source": [
        "#4) Find the variance from list or value.\n",
        "# statistics.variance(data, xbar=None)\n",
        "\n",
        "    #Return the sample variance of data, an iterable of at least two real-valued numbers. Variance, or second moment about the mean, is a measure of the variability (spread or dispersion) of data. A large variance indicates that the data is spread out; a small variance indicates it is clustered closely around the mean.\n",
        "\n",
        "    #If the optional second argument xbar is given, it should be the mean of data. If it is missing or None (the default), the mean is automatically calculated.\n",
        "    \n",
        "    #Use this function when your data is a sample from a population. To calculate the variance from the entire population, see pvariance().\n",
        "\n",
        "    #Raises StatisticsError if data has fewer than two values.\n",
        "from statistics import pvariance\n",
        "pvariance(alist)"
      ],
      "execution_count": 11,
      "outputs": [
        {
          "output_type": "execute_result",
          "data": {
            "text/plain": [
              "2.2469135802469133"
            ]
          },
          "metadata": {
            "tags": []
          },
          "execution_count": 11
        }
      ]
    },
    {
      "cell_type": "code",
      "metadata": {
        "id": "pcLL32WRVDEr",
        "colab_type": "code",
        "colab": {
          "base_uri": "https://localhost:8080/",
          "height": 35
        },
        "outputId": "85e532ea-9204-4007-c75a-0e1dd605d5ae"
      },
      "source": [
        "import numpy as np\n",
        "np.var(alist)"
      ],
      "execution_count": 12,
      "outputs": [
        {
          "output_type": "execute_result",
          "data": {
            "text/plain": [
              "2.2469135802469133"
            ]
          },
          "metadata": {
            "tags": []
          },
          "execution_count": 12
        }
      ]
    },
    {
      "cell_type": "code",
      "metadata": {
        "id": "jSTbgozzWP3p",
        "colab_type": "code",
        "colab": {}
      },
      "source": [
        "# calculate mean\n",
        "m = sum(alist) / len(alist)\n",
        "\n",
        "# calculate variance using a list comprehension\n",
        "var_res = sum((xi - m) ** 2 for xi in alist) / len(alist)"
      ],
      "execution_count": 0,
      "outputs": []
    },
    {
      "cell_type": "code",
      "metadata": {
        "id": "xl-2gIDwWkC_",
        "colab_type": "code",
        "colab": {
          "base_uri": "https://localhost:8080/",
          "height": 35
        },
        "outputId": "37220f09-e359-4d96-ba0e-e38705d56b91"
      },
      "source": [
        "var_res"
      ],
      "execution_count": 14,
      "outputs": [
        {
          "output_type": "execute_result",
          "data": {
            "text/plain": [
              "2.246913580246914"
            ]
          },
          "metadata": {
            "tags": []
          },
          "execution_count": 14
        }
      ]
    },
    {
      "cell_type": "code",
      "metadata": {
        "id": "LTOOcqhxWmcg",
        "colab_type": "code",
        "colab": {
          "base_uri": "https://localhost:8080/",
          "height": 54
        },
        "outputId": "3158f9c5-ae47-4874-e50c-141c97a74f8a"
      },
      "source": [
        "#5) Find the co-variance from list_x and list_y\n",
        "list_x=[1,2,3]\n",
        "list_y=[1,3,3]\n",
        "np.cov(list_x,list_y)"
      ],
      "execution_count": 15,
      "outputs": [
        {
          "output_type": "execute_result",
          "data": {
            "text/plain": [
              "array([[1.        , 1.        ],\n",
              "       [1.        , 1.33333333]])"
            ]
          },
          "metadata": {
            "tags": []
          },
          "execution_count": 15
        }
      ]
    },
    {
      "cell_type": "code",
      "metadata": {
        "id": "1mkUsv0bYKIB",
        "colab_type": "code",
        "colab": {
          "base_uri": "https://localhost:8080/",
          "height": 35
        },
        "outputId": "31f48dd9-5691-4b48-aaa5-a4e5920f9734"
      },
      "source": [
        "#6) Find the normalization from list.\n",
        "def normalize(num):\n",
        "  s=sum(num)\n",
        "  norm=[float(i)/s for i in num]\n",
        "  return norm\n",
        "\n",
        "normalize([1,2,1])"
      ],
      "execution_count": 16,
      "outputs": [
        {
          "output_type": "execute_result",
          "data": {
            "text/plain": [
              "[0.25, 0.5, 0.25]"
            ]
          },
          "metadata": {
            "tags": []
          },
          "execution_count": 16
        }
      ]
    },
    {
      "cell_type": "code",
      "metadata": {
        "id": "QUylo_xdYuAv",
        "colab_type": "code",
        "colab": {
          "base_uri": "https://localhost:8080/",
          "height": 35
        },
        "outputId": "ed8ca5b8-fe25-4412-bc7d-481eaf22725a"
      },
      "source": [
        "#7) Find the z-score or z-value or z-standard from list.\n",
        "from scipy.stats import zscore\n",
        "zscore([1,2,3,4,5])"
      ],
      "execution_count": 17,
      "outputs": [
        {
          "output_type": "execute_result",
          "data": {
            "text/plain": [
              "array([-1.41421356, -0.70710678,  0.        ,  0.70710678,  1.41421356])"
            ]
          },
          "metadata": {
            "tags": []
          },
          "execution_count": 17
        }
      ]
    },
    {
      "cell_type": "code",
      "metadata": {
        "id": "K-LjGCg3OJai",
        "colab_type": "code",
        "colab": {
          "base_uri": "https://localhost:8080/",
          "height": 109
        },
        "outputId": "8974fce7-379e-415b-f199-1a422ce55714"
      },
      "source": [
        "\n",
        "import numpy\n",
        "def zscore_calc(num):\n",
        "  new=numpy.array(num)\n",
        "  x=(new-new.mean())/new.std(ddof=0)\n",
        "  return list(x)\n",
        "\n",
        "zscore_calc([1,2,3,4,5])\n"
      ],
      "execution_count": 18,
      "outputs": [
        {
          "output_type": "execute_result",
          "data": {
            "text/plain": [
              "[-1.414213562373095,\n",
              " -0.7071067811865475,\n",
              " 0.0,\n",
              " 0.7071067811865475,\n",
              " 1.414213562373095]"
            ]
          },
          "metadata": {
            "tags": []
          },
          "execution_count": 18
        }
      ]
    }
  ]
}
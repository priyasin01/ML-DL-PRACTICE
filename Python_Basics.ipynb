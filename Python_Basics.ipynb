{
  "nbformat": 4,
  "nbformat_minor": 0,
  "metadata": {
    "colab": {
      "name": "Untitled20.ipynb",
      "version": "0.3.2",
      "provenance": [],
      "collapsed_sections": [],
      "include_colab_link": true
    },
    "kernelspec": {
      "name": "python3",
      "display_name": "Python 3"
    }
  },
  "cells": [
    {
      "cell_type": "markdown",
      "metadata": {
        "id": "view-in-github",
        "colab_type": "text"
      },
      "source": [
        "<a href=\"https://colab.research.google.com/github/priyasin01/ML-DL-PRACTICE/blob/master/Python_Basics.ipynb\" target=\"_parent\"><img src=\"https://colab.research.google.com/assets/colab-badge.svg\" alt=\"Open In Colab\"/></a>"
      ]
    },
    {
      "cell_type": "markdown",
      "metadata": {
        "id": "BWjMfi2UudWL",
        "colab_type": "text"
      },
      "source": [
        "##TASK 1##\n",
        "Python : \n",
        "\n",
        "1) Reverse String\n",
        "I/p : rakesh kumar   o/p : ramuk hsekar\n",
        "i/p : deep  learn o/p : nrael peed\n",
        "\n",
        "2) Reverse String\n",
        "I/p : rakesh kumar   o/p : hsekar ramuk\n",
        "i/p : deep  learn o/p : peed nrael\n",
        "\n",
        "\n",
        "3) Sorting ascending a number\n",
        "I/p : [3,9,2,5,90,3,2]  o/p : [2,2,3,3,5,9,90]\n",
        "i/p : [4,9,3,5,0,9,4] o/p : [0,3,4,4,5,9,9]\n",
        "\n",
        "\n",
        "\n",
        "\n",
        "4) Sorting descending a number\n",
        "I/p : [3,9,2,5,90,3,2]  o/p : [90,9,5,3,3,2,2]\n",
        "i/p : [4,9,3,5,0,9,4] o/p : [9,9,5,4,4,3,0]\n",
        "\n",
        "\n",
        "5) Print 2nd smallest number\n",
        "I/p : [3,9,2,5,90,3,2]  o/p : 2\n",
        "i/p : [9,3,5,9,4] o/p : 3\n",
        "\n",
        "\n",
        "6) Print 2nd largest number\n",
        "I/p : [3,9,2,5,90,3,80,81,2]  o/p : 81\n",
        "i/p : [14,9,3,5,15,9,4] o/p : 14\n",
        "\n",
        "\n",
        "7) remove duplicate number\n",
        "I/p : [1,9,2,3,4,6,8,1,2,3,6]  o/p :[1,9,2,3,4,6]\n",
        "i/p : [5,4,6,1,1,1,2,1,2,3] o/p : [5,4,6,1,2,3]\n",
        "\n",
        "\n",
        "8) revesre the list\n",
        "I/p : [\"b\" ,\"a\",\"c\",\"d\"]   o/p :[\"d\" ,\"c\",\"a\",\"b\"] \n",
        "i/p : [\"a\" ,\"a\",\"r\",\"d\"]  o/p : [\"d\" ,\"r\",\"a\",\"a\"] \n",
        "\n",
        "\n",
        "9) remove duplicate from the list\n",
        "I/p : [\"b\" ,\"a\",\"c\",\"d\",\"a\",\"c\",\"k\"]   o/p :[\"b\" ,\"a\",\"c\",\"d\",\"k\"]\n",
        "i/p : [\"a\" ,\"a\",\"r\",\"d\",\"r\"]  o/p :  [\"a\" ,\"r\",\"d\"] \n",
        "\n",
        "10) Print the String in order\n",
        "I/p : a2bMA@3H1h   o/p : AHMabh123@\n",
        "i/p : 1D@DA1ab21ba . o/p : ADDaabb112@\n",
        "\n",
        "11) Print the String in order and remove duplicated \n",
        "I/p : aB3c1D$A9A1$d3   o/p : ABDacd139$\n",
        "i/p : Lg@32aH23 o/p : HLag23@"
      ]
    },
    {
      "cell_type": "code",
      "metadata": {
        "id": "EC5ThJd5umIL",
        "colab_type": "code",
        "colab": {}
      },
      "source": [
        "#1) Reverse String I/p : rakesh kumar o/p : ramuk hsekar i/p : deep learn o/p : nrael peed\n",
        "def reversestr():\n",
        "  Ip=input(\"Enter a string: \")\n",
        "  text=Ip[::-1]\n",
        "  print(text)\n",
        "  \n",
        "#def reverse(string): \n",
        "#    string = \"\".join(reversed(string)) \n",
        "#    return string"
      ],
      "execution_count": 0,
      "outputs": []
    },
    {
      "cell_type": "code",
      "metadata": {
        "id": "mh1KleoBvSUM",
        "colab_type": "code",
        "colab": {
          "base_uri": "https://localhost:8080/",
          "height": 54
        },
        "outputId": "c0efb890-7561-4ebd-8057-df1b52b71781"
      },
      "source": [
        "reversestr()"
      ],
      "execution_count": 2,
      "outputs": [
        {
          "output_type": "stream",
          "text": [
            "Enter a string: rakesh kumar\n",
            "ramuk hsekar\n"
          ],
          "name": "stdout"
        }
      ]
    },
    {
      "cell_type": "code",
      "metadata": {
        "id": "OS4X_NtWvrjb",
        "colab_type": "code",
        "colab": {
          "base_uri": "https://localhost:8080/",
          "height": 54
        },
        "outputId": "182ba39c-1807-48cc-a67b-74acbaac8563"
      },
      "source": [
        "reversestr()"
      ],
      "execution_count": 3,
      "outputs": [
        {
          "output_type": "stream",
          "text": [
            "Enter a string: deep learn\n",
            "nrael peed\n"
          ],
          "name": "stdout"
        }
      ]
    },
    {
      "cell_type": "code",
      "metadata": {
        "id": "HyCoMnCuvvsI",
        "colab_type": "code",
        "colab": {}
      },
      "source": [
        "#2) Reverse String I/p : rakesh kumar o/p : hsekar ramuk i/p : deep learn o/p : peed nrael\n",
        "def reverseWordSentence(Sentence):  \n",
        "    return ' '.join(word[::-1] for word in Sentence.split(\" \"))  "
      ],
      "execution_count": 0,
      "outputs": []
    },
    {
      "cell_type": "code",
      "metadata": {
        "id": "-hehc7ovwqSe",
        "colab_type": "code",
        "colab": {
          "base_uri": "https://localhost:8080/",
          "height": 35
        },
        "outputId": "79e6cf08-b116-480d-97cd-8fd859091d9b"
      },
      "source": [
        "reverseWordSentence(\"rakesh kumar\")"
      ],
      "execution_count": 5,
      "outputs": [
        {
          "output_type": "execute_result",
          "data": {
            "text/plain": [
              "'hsekar ramuk'"
            ]
          },
          "metadata": {
            "tags": []
          },
          "execution_count": 5
        }
      ]
    },
    {
      "cell_type": "code",
      "metadata": {
        "id": "KdJ_nwzxwsgy",
        "colab_type": "code",
        "colab": {
          "base_uri": "https://localhost:8080/",
          "height": 35
        },
        "outputId": "0c9cc389-d4e1-4a27-8c3f-4bd232e27b95"
      },
      "source": [
        "reverseWordSentence(\"deep learn\")"
      ],
      "execution_count": 6,
      "outputs": [
        {
          "output_type": "execute_result",
          "data": {
            "text/plain": [
              "'peed nrael'"
            ]
          },
          "metadata": {
            "tags": []
          },
          "execution_count": 6
        }
      ]
    },
    {
      "cell_type": "code",
      "metadata": {
        "id": "fFRgrkSezUFO",
        "colab_type": "code",
        "colab": {
          "base_uri": "https://localhost:8080/",
          "height": 54
        },
        "outputId": "01e8d89a-7439-416f-a8dc-bbbf1bf1c6cd"
      },
      "source": [
        "#3) Sorting ascending a number I/p : [3,9,2,5,90,3,2] o/p : [2,2,3,3,5,9,90] i/p : [4,9,3,5,0,9,4] o/p : [0,3,4,4,5,9,9]\n",
        "print(sorted([3,9,2,5,90,3,2]))\n",
        "sorted([4,9,3,5,0,9,4])"
      ],
      "execution_count": 7,
      "outputs": [
        {
          "output_type": "stream",
          "text": [
            "[2, 2, 3, 3, 5, 9, 90]\n"
          ],
          "name": "stdout"
        },
        {
          "output_type": "execute_result",
          "data": {
            "text/plain": [
              "[0, 3, 4, 4, 5, 9, 9]"
            ]
          },
          "metadata": {
            "tags": []
          },
          "execution_count": 7
        }
      ]
    },
    {
      "cell_type": "code",
      "metadata": {
        "id": "YIn_IXmMz2eE",
        "colab_type": "code",
        "colab": {
          "base_uri": "https://localhost:8080/",
          "height": 54
        },
        "outputId": "f6c06694-04db-4173-f5a4-09e10240b072"
      },
      "source": [
        "#4) Sorting descending a number I/p : [3,9,2,5,90,3,2] o/p : [90,9,5,3,3,2,2] i/p : [4,9,3,5,0,9,4] o/p : [9,9,5,4,4,3,0]\n",
        "print(sorted([3,9,2,5,90,3,2],reverse=True))\n",
        "sorted( [4,9,3,5,0,9,4],reverse=True)"
      ],
      "execution_count": 8,
      "outputs": [
        {
          "output_type": "stream",
          "text": [
            "[90, 9, 5, 3, 3, 2, 2]\n"
          ],
          "name": "stdout"
        },
        {
          "output_type": "execute_result",
          "data": {
            "text/plain": [
              "[9, 9, 5, 4, 4, 3, 0]"
            ]
          },
          "metadata": {
            "tags": []
          },
          "execution_count": 8
        }
      ]
    },
    {
      "cell_type": "code",
      "metadata": {
        "id": "zc8BlRvq0eJ3",
        "colab_type": "code",
        "colab": {}
      },
      "source": [
        "#5) Print 2nd smallest number I/p : [3,9,2,5,90,3,2] o/p : 2 i/p : [9,3,5,9,4] o/p : 4\n",
        "def secondsmallest(x):\n",
        "  sort=sorted(x)\n",
        "  return sort[1]"
      ],
      "execution_count": 0,
      "outputs": []
    },
    {
      "cell_type": "code",
      "metadata": {
        "id": "x7J9sT052qGv",
        "colab_type": "code",
        "colab": {
          "base_uri": "https://localhost:8080/",
          "height": 35
        },
        "outputId": "3c46d982-5343-405a-9d23-376648eda16f"
      },
      "source": [
        "secondsmallest([3,9,2,5,90,3,2])"
      ],
      "execution_count": 10,
      "outputs": [
        {
          "output_type": "execute_result",
          "data": {
            "text/plain": [
              "2"
            ]
          },
          "metadata": {
            "tags": []
          },
          "execution_count": 10
        }
      ]
    },
    {
      "cell_type": "code",
      "metadata": {
        "id": "W9i4XEug2vZP",
        "colab_type": "code",
        "colab": {
          "base_uri": "https://localhost:8080/",
          "height": 35
        },
        "outputId": "baf41d85-e888-4566-ec74-e3cc61d83b08"
      },
      "source": [
        "secondsmallest([9,3,5,9,4])"
      ],
      "execution_count": 11,
      "outputs": [
        {
          "output_type": "execute_result",
          "data": {
            "text/plain": [
              "4"
            ]
          },
          "metadata": {
            "tags": []
          },
          "execution_count": 11
        }
      ]
    },
    {
      "cell_type": "code",
      "metadata": {
        "id": "po5Ky2u429iN",
        "colab_type": "code",
        "colab": {}
      },
      "source": [
        "#6) Print 2nd largest number I/p : [3,9,2,5,90,3,80,81,2] o/p : 81 i/p : [14,9,3,5,15,9,4] o/p : 14\n",
        "def secondlargest(x):\n",
        "  sort=sorted(x,reverse=True)\n",
        "  return sort[1]"
      ],
      "execution_count": 0,
      "outputs": []
    },
    {
      "cell_type": "code",
      "metadata": {
        "id": "RGLdvZqD3LNf",
        "colab_type": "code",
        "colab": {
          "base_uri": "https://localhost:8080/",
          "height": 35
        },
        "outputId": "6641b1c2-96f8-4d6c-cbbd-e19e871893eb"
      },
      "source": [
        "secondlargest([3,9,2,5,90,3,80,81,2])"
      ],
      "execution_count": 13,
      "outputs": [
        {
          "output_type": "execute_result",
          "data": {
            "text/plain": [
              "81"
            ]
          },
          "metadata": {
            "tags": []
          },
          "execution_count": 13
        }
      ]
    },
    {
      "cell_type": "code",
      "metadata": {
        "id": "cZk-y8YQ3Saq",
        "colab_type": "code",
        "colab": {
          "base_uri": "https://localhost:8080/",
          "height": 35
        },
        "outputId": "d269c932-4c27-4471-c20b-0ead8093b493"
      },
      "source": [
        "secondlargest([14,9,3,5,15,9,4])"
      ],
      "execution_count": 14,
      "outputs": [
        {
          "output_type": "execute_result",
          "data": {
            "text/plain": [
              "14"
            ]
          },
          "metadata": {
            "tags": []
          },
          "execution_count": 14
        }
      ]
    },
    {
      "cell_type": "code",
      "metadata": {
        "id": "KzmVaXZg3ZYY",
        "colab_type": "code",
        "colab": {
          "base_uri": "https://localhost:8080/",
          "height": 54
        },
        "outputId": "5057451e-7392-40cc-c25b-7de8f45f1045"
      },
      "source": [
        "#7) remove duplicate number I/p : [1,9,2,3,4,6,8,1,2,3,6] o/p :[1,9,2,3,8,4,6] i/p : [5,4,6,1,1,1,2,1,2,3] o/p : [5,4,6,1,2,3]\n",
        "print(list(set([1,9,2,3,4,6,8,1,2,3,6])))\n",
        "list(set([5,4,6,1,1,1,2,1,2,3]))"
      ],
      "execution_count": 15,
      "outputs": [
        {
          "output_type": "stream",
          "text": [
            "[1, 2, 3, 4, 6, 8, 9]\n"
          ],
          "name": "stdout"
        },
        {
          "output_type": "execute_result",
          "data": {
            "text/plain": [
              "[1, 2, 3, 4, 5, 6]"
            ]
          },
          "metadata": {
            "tags": []
          },
          "execution_count": 15
        }
      ]
    },
    {
      "cell_type": "code",
      "metadata": {
        "id": "05cvtX5v3nlb",
        "colab_type": "code",
        "colab": {
          "base_uri": "https://localhost:8080/",
          "height": 35
        },
        "outputId": "35709a36-8dbd-450a-ecca-68e57278d8dc"
      },
      "source": [
        "#8) reverse the list I/p : [\"b\" ,\"a\",\"c\",\"d\"] o/p :[\"d\" ,\"c\",\"a\",\"b\"] i/p : [\"a\" ,\"a\",\"r\",\"d\"] o/p : [\"d\" ,\"r\",\"a\",\"a\"] \n",
        "alist=[\"b\" ,\"a\",\"c\",\"d\"]\n",
        "alist.reverse()\n",
        "print(alist)"
      ],
      "execution_count": 16,
      "outputs": [
        {
          "output_type": "stream",
          "text": [
            "['d', 'c', 'a', 'b']\n"
          ],
          "name": "stdout"
        }
      ]
    },
    {
      "cell_type": "code",
      "metadata": {
        "id": "JKnUR4FPLNaK",
        "colab_type": "code",
        "colab": {
          "base_uri": "https://localhost:8080/",
          "height": 35
        },
        "outputId": "5b6ddd9d-4ff4-4a9d-d926-791bb1080819"
      },
      "source": [
        "alist=[\"a\" ,\"a\",\"r\",\"d\"]\n",
        "alist.reverse()\n",
        "print(alist)"
      ],
      "execution_count": 17,
      "outputs": [
        {
          "output_type": "stream",
          "text": [
            "['d', 'r', 'a', 'a']\n"
          ],
          "name": "stdout"
        }
      ]
    },
    {
      "cell_type": "code",
      "metadata": {
        "id": "20nFtqRBM_vY",
        "colab_type": "code",
        "colab": {
          "base_uri": "https://localhost:8080/",
          "height": 35
        },
        "outputId": "beab67e4-dc4b-42e2-896f-130927a08abc"
      },
      "source": [
        "#9) remove duplicate from the list I/p : [\"b\" ,\"a\",\"c\",\"d\",\"a\",\"c\",\"k\"] o/p :[\"b\" ,\"a\",\"c\",\"d\",\"k\"] i/p : [\"a\" ,\"a\",\"r\",\"d\",\"r\"] o/p : [\"a\" ,\"r\",\"d\"] \n",
        "list(set([\"b\" ,\"a\",\"c\",\"d\",\"a\",\"c\",\"k\"]))"
      ],
      "execution_count": 18,
      "outputs": [
        {
          "output_type": "execute_result",
          "data": {
            "text/plain": [
              "['c', 'd', 'k', 'a', 'b']"
            ]
          },
          "metadata": {
            "tags": []
          },
          "execution_count": 18
        }
      ]
    },
    {
      "cell_type": "code",
      "metadata": {
        "id": "XuhNqXSZNWt7",
        "colab_type": "code",
        "colab": {
          "base_uri": "https://localhost:8080/",
          "height": 35
        },
        "outputId": "278e0ecb-dd39-4c27-c820-790bfa9cd620"
      },
      "source": [
        "list(set([\"a\" ,\"a\",\"r\",\"d\",\"r\"]))"
      ],
      "execution_count": 19,
      "outputs": [
        {
          "output_type": "execute_result",
          "data": {
            "text/plain": [
              "['r', 'a', 'd']"
            ]
          },
          "metadata": {
            "tags": []
          },
          "execution_count": 19
        }
      ]
    },
    {
      "cell_type": "code",
      "metadata": {
        "id": "hLPTg3bmN4U6",
        "colab_type": "code",
        "colab": {
          "base_uri": "https://localhost:8080/",
          "height": 35
        },
        "outputId": "a99131a7-f98c-4d27-c07e-17265ee30f4b"
      },
      "source": [
        "#10) Print the String in order I/p : a2bMA@3H1h o/p : a2bMA@3H1h i/p : 1D@DA1ab21ba . o/p : 1112@ADDaabb\n",
        "\n",
        "def sort_asc(numbers):\n",
        "    for loop in range(len(numbers)):\n",
        "        for i in range(len(numbers) - 1):\n",
        "            if(numbers[i] > numbers[i+1]):\n",
        "                temp = numbers[i+1]\n",
        "                numbers[i+1] = numbers[i]\n",
        "                numbers[i] = temp\n",
        "    return numbers\n",
        "\n",
        "def ordered_characters(string):\n",
        "    ascii_values = []\n",
        "    for character in string:\n",
        "        ascii_values.append(ord(character))\n",
        "    return ascii_values\n",
        "\n",
        "\n",
        "def convert_and_return(string):\n",
        "    ordered_characters_sorted = sort_asc(ordered_characters(string))\n",
        "    ordered_characters_sorted_converted = []\n",
        "    for num in ordered_characters_sorted:\n",
        "        num = chr(num)\n",
        "        ordered_characters_sorted_converted.append(num)\n",
        "    return \"\".join(ordered_characters_sorted_converted)\n",
        "\n",
        "convert_and_return('a2bMA@3H1h')"
      ],
      "execution_count": 20,
      "outputs": [
        {
          "output_type": "execute_result",
          "data": {
            "text/plain": [
              "'123@AHMabh'"
            ]
          },
          "metadata": {
            "tags": []
          },
          "execution_count": 20
        }
      ]
    },
    {
      "cell_type": "code",
      "metadata": {
        "id": "-5XrYYtvMsoE",
        "colab_type": "code",
        "colab": {
          "base_uri": "https://localhost:8080/",
          "height": 35
        },
        "outputId": "065b4934-e58e-4dbc-ac2d-259570ac1edb"
      },
      "source": [
        "convert_and_return('1D@DA1ab21ba')"
      ],
      "execution_count": 30,
      "outputs": [
        {
          "output_type": "execute_result",
          "data": {
            "text/plain": [
              "'1112@ADDaabb'"
            ]
          },
          "metadata": {
            "tags": []
          },
          "execution_count": 30
        }
      ]
    },
    {
      "cell_type": "code",
      "metadata": {
        "id": "ltpIs9QjSLYa",
        "colab_type": "code",
        "colab": {}
      },
      "source": [
        "#11) Print the String in order and remove duplicated I/p : aB3c1DA9A1d3 o/p : 139ABDacd i/p : Lg@32aH23 o/p : 23@HLag\n",
        "def remove_duplicates(numbers):\n",
        "  removed_duplicates=[]\n",
        "  for x in numbers:\n",
        "    if x not in removed_duplicates:\n",
        "      removed_duplicates.append(x)\n",
        "  return removed_duplicates\n",
        "\n",
        "def ordered_characters_without_duplicates(string):\n",
        "    result = \"\".join(remove_duplicates(convert_and_return(string)))\n",
        "    return result"
      ],
      "execution_count": 0,
      "outputs": []
    },
    {
      "cell_type": "code",
      "metadata": {
        "id": "Y2KjW0mxTG-1",
        "colab_type": "code",
        "colab": {
          "base_uri": "https://localhost:8080/",
          "height": 35
        },
        "outputId": "3c2957ad-bccd-490d-8f3f-b87ff86233c5"
      },
      "source": [
        "print(ordered_characters_without_duplicates('aB3c1DA9A1d3'))"
      ],
      "execution_count": 28,
      "outputs": [
        {
          "output_type": "stream",
          "text": [
            "139ABDacd\n"
          ],
          "name": "stdout"
        }
      ]
    },
    {
      "cell_type": "code",
      "metadata": {
        "id": "onc0BiDWTNWr",
        "colab_type": "code",
        "colab": {
          "base_uri": "https://localhost:8080/",
          "height": 35
        },
        "outputId": "03f1e003-21f7-45e0-980f-449afb499bc4"
      },
      "source": [
        "print(ordered_characters_without_duplicates('Lg@32aH23'))"
      ],
      "execution_count": 29,
      "outputs": [
        {
          "output_type": "stream",
          "text": [
            "23@HLag\n"
          ],
          "name": "stdout"
        }
      ]
    },
    {
      "cell_type": "code",
      "metadata": {
        "id": "6sKY3Vd7MmHQ",
        "colab_type": "code",
        "colab": {}
      },
      "source": [
        ""
      ],
      "execution_count": 0,
      "outputs": []
    }
  ]
}